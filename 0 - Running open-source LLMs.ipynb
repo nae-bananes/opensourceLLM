{
 "cells": [
  {
   "cell_type": "markdown",
   "id": "584c686f",
   "metadata": {},
   "source": [
    "# Running open-source LLMs on CPU local environment using Langchain"
   ]
  },
  {
   "cell_type": "markdown",
   "id": "81576025",
   "metadata": {},
   "source": [
    "- **Downloading small language models (SLM) from Huggingface**\n",
    "\n",
    "Huggingface offers large range of open-source language models in .gguf formats and llamafile formats. The LLM in these formats are executable using llamafile command.\n",
    "\n",
    "Starting the model without --nobrowser option allows to show the running model over a browser."
   ]
  },
  {
   "cell_type": "code",
   "execution_count": null,
   "id": "f37c5d13",
   "metadata": {},
   "outputs": [],
   "source": [
    "# Download a llamafile from HuggingFace\n",
    "wget https://huggingface.co/jartine/TinyLlama-1.1B-Chat-v1.0-GGUF/resolve/main/TinyLlama-1.1B-Chat-v1.0.Q5_K_M.llamafile\n",
    "\n",
    "# Make the file executable. On Windows, instead just rename the file to end in \".exe\".\n",
    "chmod +x TinyLlama-1.1B-Chat-v1.0.Q5_K_M.llamafile\n",
    "\n",
    "# Start the model server. Listens at http://localhost:8080 by default.\n",
    "./TinyLlama-1.1B-Chat-v1.0.Q5_K_M.llamafile --server (--nobrowser)"
   ]
  },
  {
   "cell_type": "markdown",
   "id": "3f52b0f3",
   "metadata": {},
   "source": [
    "- **Formatting the prompt from my prompt data file**\n",
    "\n",
    "Prompt generation using the langchain template"
   ]
  },
  {
   "cell_type": "code",
   "execution_count": null,
   "id": "cfb7d9b4",
   "metadata": {},
   "outputs": [
    {
     "data": {
      "text/plain": [
       "PromptTemplate(input_variables=['language', 'topic'], input_types={}, partial_variables={}, template='Tell me a joke about {topic}, make it funny\\n\\nand in {language}')"
      ]
     },
     "execution_count": 1,
     "metadata": {},
     "output_type": "execute_result"
    }
   ],
   "source": [
    "from langchain_core.prompts import PromptTemplate\n",
    "\n",
    "prompt = (\n",
    "    PromptTemplate.from_template(\n",
    "        \"Tell me a joke about {topic}\")\n",
    "    + \", make it funny\"\n",
    "    + \"\\n\\nand in {language}\"\n",
    ")\n",
    "\n",
    "prompt"
   ]
  },
  {
   "cell_type": "code",
   "execution_count": 13,
   "id": "f66fa78b",
   "metadata": {},
   "outputs": [],
   "source": [
    "first_prompt = prompt.format(topic=\"sports\", language=\"english\")"
   ]
  },
  {
   "cell_type": "markdown",
   "id": "2c568aa0",
   "metadata": {},
   "source": [
    "- **Evoking LLM**"
   ]
  },
  {
   "cell_type": "code",
   "execution_count": 14,
   "id": "ff01c91f",
   "metadata": {},
   "outputs": [],
   "source": [
    "from langchain_community.llms.llamafile import Llamafile\n",
    "\n",
    "llm = Llamafile()\n",
    "\n",
    "response = llm.invoke(first_prompt)\n"
   ]
  },
  {
   "cell_type": "code",
   "execution_count": 18,
   "id": "d6cebda0",
   "metadata": {},
   "outputs": [
    {
     "name": "stdout",
     "output_type": "stream",
     "text": [
      "(':\\n'\n",
      " '(1) What do you call a football player who never scores? A fumble.\\n'\n",
      " '(2) How did the golfer manage to break 140? By missing the green and holing '\n",
      " 'the putt.\\n'\n",
      " '(3) Who won more gold medals than any other athlete? Gymnast Simone Biles.\\n'\n",
      " '(4) Can you make a football punny joke? No, but I can tell you that when '\n",
      " 'football players go on vacation, they bring their cleats with them. (5) What '\n",
      " 'do you call a tennis player who never wins a tournament? A loser.\\n'\n",
      " '(6) Who scored the most points in the NBA finals? The Chicago Bulls.\\n'\n",
      " \"(7) What is the hardest thing to hit while playing soccer? The goalie's \"\n",
      " 'hands.\\n'\n",
      " '(8) Can you come up with a football punny joke about the NFL season? No, but '\n",
      " 'I can tell you that the Washington Redskins lost all four of their games '\n",
      " 'this weekend. (9) How did the golf player finish second in the Masters? By '\n",
      " 'missing the green and making double bogey.\\n'\n",
      " '(10) Can you make a tennis punny joke for me? No, but I will tell you that '\n",
      " \"at the Australian Open, the best players were the ones who didn't win any \"\n",
      " 'matches.</s>')\n"
     ]
    }
   ],
   "source": [
    "import pprint\n",
    "pprint.pprint(response)"
   ]
  },
  {
   "cell_type": "markdown",
   "id": "83a72fd2",
   "metadata": {},
   "source": [
    "- **Summarizing a document using langchain**"
   ]
  },
  {
   "cell_type": "code",
   "execution_count": 20,
   "id": "fd7349ed",
   "metadata": {},
   "outputs": [],
   "source": [
    "from langchain_core.documents import Document\n",
    "\n",
    "documents = [\n",
    "    Document(page_content=\"Under an updated policy, the LCSD aims to provide more performance slots for arts groups and establish clearer venue identities, 'thereby fostering a diversified, professional, industry and mega-event development of performing arts,'a Thursday statement read. The Hong Kong Coliseum in Hung Hom, previously given priority for sports events, will be repositioned to prioritise concerts, thereby promoting the development of a “concert economy,” the department said.\", \n",
    "             metadata={\"title\": \"HK_news1\"}),\n",
    "\n",
    "    Document(page_content=\"South Korea finds itself in the middle of a growing superpower standoff between the United States, its traditional security guarantor, and China, its largest trade partner but also a key ally of North Korea. The two men – identified as international students in Busan – were arrested on Wednesday, charged with injuring the military interests of South Korea and violating the Protection of Military Bases and Installations Act, according to the Busan Metropolitan Police.\", \n",
    "             metadata={\"title\": \"HK_news2\"}),\n",
    "\n",
    "    Document(page_content=\"Hong Kong lawmakers have passed amendments to the city’s union laws, banning anyone convicted of national security offences from serving in trade unions for life. The amendment bill, passed by a show of hands in the opposition-free legislature on Wednesday, contains a slew of new terms to tighten union laws on national security grounds, including a requirement for foreign funding to be vetted by authorities. The changes to the Trade Unions Ordinance were proposed in February “to better fulfil the duty of safeguarding national security” under the city’s two national security laws.\", \n",
    "             metadata={\"title\": \"HK_news3\"}),\n",
    "]"
   ]
  },
  {
   "cell_type": "code",
   "execution_count": 32,
   "id": "1844df45",
   "metadata": {},
   "outputs": [
    {
     "data": {
      "text/plain": [
       "\"Under an updated policy, the LCSD aims to provide more performance slots for arts groups and establish clearer venue identities, 'thereby fostering a diversified, professional, industry and mega-event development of performing arts,'a Thursday statement read. The Hong Kong Coliseum in Hung Hom, previously given priority for sports events, will be repositioned to prioritise concerts, thereby promoting the development of a “concert economy,” the department said.\""
      ]
     },
     "execution_count": 32,
     "metadata": {},
     "output_type": "execute_result"
    }
   ],
   "source": [
    "documents[0].page_content"
   ]
  },
  {
   "cell_type": "code",
   "execution_count": 33,
   "id": "e2e8f4f4",
   "metadata": {},
   "outputs": [
    {
     "name": "stdout",
     "output_type": "stream",
     "text": [
      "\u001b[32;1m\u001b[1;3m[chain/start]\u001b[0m \u001b[1m[chain:stuff_documents_chain] Entering Chain run with input:\n",
      "\u001b[0m[inputs]\n",
      "\u001b[32;1m\u001b[1;3m[chain/start]\u001b[0m \u001b[1m[chain:stuff_documents_chain > chain:format_inputs] Entering Chain run with input:\n",
      "\u001b[0m[inputs]\n",
      "\u001b[32;1m\u001b[1;3m[chain/start]\u001b[0m \u001b[1m[chain:stuff_documents_chain > chain:format_inputs > chain:RunnableParallel<context>] Entering Chain run with input:\n",
      "\u001b[0m[inputs]\n",
      "\u001b[32;1m\u001b[1;3m[chain/start]\u001b[0m \u001b[1m[chain:stuff_documents_chain > chain:format_inputs > chain:RunnableParallel<context> > chain:format_docs] Entering Chain run with input:\n",
      "\u001b[0m[inputs]\n",
      "\u001b[36;1m\u001b[1;3m[chain/end]\u001b[0m \u001b[1m[chain:stuff_documents_chain > chain:format_inputs > chain:RunnableParallel<context> > chain:format_docs] [0ms] Exiting Chain run with output:\n",
      "\u001b[0m{\n",
      "  \"output\": \"Under an updated policy, the LCSD aims to provide more performance slots for arts groups and establish clearer venue identities, 'thereby fostering a diversified, professional, industry and mega-event development of performing arts,'a Thursday statement read. The Hong Kong Coliseum in Hung Hom, previously given priority for sports events, will be repositioned to prioritise concerts, thereby promoting the development of a “concert economy,” the department said.\\n\\nSouth Korea finds itself in the middle of a growing superpower standoff between the United States, its traditional security guarantor, and China, its largest trade partner but also a key ally of North Korea. The two men – identified as international students in Busan – were arrested on Wednesday, charged with injuring the military interests of South Korea and violating the Protection of Military Bases and Installations Act, according to the Busan Metropolitan Police.\\n\\nHong Kong lawmakers have passed amendments to the city’s union laws, banning anyone convicted of national security offences from serving in trade unions for life. The amendment bill, passed by a show of hands in the opposition-free legislature on Wednesday, contains a slew of new terms to tighten union laws on national security grounds, including a requirement for foreign funding to be vetted by authorities. The changes to the Trade Unions Ordinance were proposed in February “to better fulfil the duty of safeguarding national security” under the city’s two national security laws.\"\n",
      "}\n",
      "\u001b[36;1m\u001b[1;3m[chain/end]\u001b[0m \u001b[1m[chain:stuff_documents_chain > chain:format_inputs > chain:RunnableParallel<context>] [2ms] Exiting Chain run with output:\n",
      "\u001b[0m{\n",
      "  \"context\": \"Under an updated policy, the LCSD aims to provide more performance slots for arts groups and establish clearer venue identities, 'thereby fostering a diversified, professional, industry and mega-event development of performing arts,'a Thursday statement read. The Hong Kong Coliseum in Hung Hom, previously given priority for sports events, will be repositioned to prioritise concerts, thereby promoting the development of a “concert economy,” the department said.\\n\\nSouth Korea finds itself in the middle of a growing superpower standoff between the United States, its traditional security guarantor, and China, its largest trade partner but also a key ally of North Korea. The two men – identified as international students in Busan – were arrested on Wednesday, charged with injuring the military interests of South Korea and violating the Protection of Military Bases and Installations Act, according to the Busan Metropolitan Police.\\n\\nHong Kong lawmakers have passed amendments to the city’s union laws, banning anyone convicted of national security offences from serving in trade unions for life. The amendment bill, passed by a show of hands in the opposition-free legislature on Wednesday, contains a slew of new terms to tighten union laws on national security grounds, including a requirement for foreign funding to be vetted by authorities. The changes to the Trade Unions Ordinance were proposed in February “to better fulfil the duty of safeguarding national security” under the city’s two national security laws.\"\n",
      "}\n",
      "\u001b[36;1m\u001b[1;3m[chain/end]\u001b[0m \u001b[1m[chain:stuff_documents_chain > chain:format_inputs] [2ms] Exiting Chain run with output:\n",
      "\u001b[0m{\n",
      "  \"context\": \"Under an updated policy, the LCSD aims to provide more performance slots for arts groups and establish clearer venue identities, 'thereby fostering a diversified, professional, industry and mega-event development of performing arts,'a Thursday statement read. The Hong Kong Coliseum in Hung Hom, previously given priority for sports events, will be repositioned to prioritise concerts, thereby promoting the development of a “concert economy,” the department said.\\n\\nSouth Korea finds itself in the middle of a growing superpower standoff between the United States, its traditional security guarantor, and China, its largest trade partner but also a key ally of North Korea. The two men – identified as international students in Busan – were arrested on Wednesday, charged with injuring the military interests of South Korea and violating the Protection of Military Bases and Installations Act, according to the Busan Metropolitan Police.\\n\\nHong Kong lawmakers have passed amendments to the city’s union laws, banning anyone convicted of national security offences from serving in trade unions for life. The amendment bill, passed by a show of hands in the opposition-free legislature on Wednesday, contains a slew of new terms to tighten union laws on national security grounds, including a requirement for foreign funding to be vetted by authorities. The changes to the Trade Unions Ordinance were proposed in February “to better fulfil the duty of safeguarding national security” under the city’s two national security laws.\"\n",
      "}\n",
      "\u001b[32;1m\u001b[1;3m[chain/start]\u001b[0m \u001b[1m[chain:stuff_documents_chain > prompt:ChatPromptTemplate] Entering Prompt run with input:\n",
      "\u001b[0m{\n",
      "  \"context\": \"Under an updated policy, the LCSD aims to provide more performance slots for arts groups and establish clearer venue identities, 'thereby fostering a diversified, professional, industry and mega-event development of performing arts,'a Thursday statement read. The Hong Kong Coliseum in Hung Hom, previously given priority for sports events, will be repositioned to prioritise concerts, thereby promoting the development of a “concert economy,” the department said.\\n\\nSouth Korea finds itself in the middle of a growing superpower standoff between the United States, its traditional security guarantor, and China, its largest trade partner but also a key ally of North Korea. The two men – identified as international students in Busan – were arrested on Wednesday, charged with injuring the military interests of South Korea and violating the Protection of Military Bases and Installations Act, according to the Busan Metropolitan Police.\\n\\nHong Kong lawmakers have passed amendments to the city’s union laws, banning anyone convicted of national security offences from serving in trade unions for life. The amendment bill, passed by a show of hands in the opposition-free legislature on Wednesday, contains a slew of new terms to tighten union laws on national security grounds, including a requirement for foreign funding to be vetted by authorities. The changes to the Trade Unions Ordinance were proposed in February “to better fulfil the duty of safeguarding national security” under the city’s two national security laws.\"\n",
      "}\n",
      "\u001b[36;1m\u001b[1;3m[chain/end]\u001b[0m \u001b[1m[chain:stuff_documents_chain > prompt:ChatPromptTemplate] [0ms] Exiting Prompt run with output:\n",
      "\u001b[0m[outputs]\n",
      "\u001b[32;1m\u001b[1;3m[llm/start]\u001b[0m \u001b[1m[chain:stuff_documents_chain > llm:Llamafile] Entering LLM run with input:\n",
      "\u001b[0m{\n",
      "  \"prompts\": [\n",
      "    \"Human: Summarize this content: Under an updated policy, the LCSD aims to provide more performance slots for arts groups and establish clearer venue identities, 'thereby fostering a diversified, professional, industry and mega-event development of performing arts,'a Thursday statement read. The Hong Kong Coliseum in Hung Hom, previously given priority for sports events, will be repositioned to prioritise concerts, thereby promoting the development of a “concert economy,” the department said.\\n\\nSouth Korea finds itself in the middle of a growing superpower standoff between the United States, its traditional security guarantor, and China, its largest trade partner but also a key ally of North Korea. The two men – identified as international students in Busan – were arrested on Wednesday, charged with injuring the military interests of South Korea and violating the Protection of Military Bases and Installations Act, according to the Busan Metropolitan Police.\\n\\nHong Kong lawmakers have passed amendments to the city’s union laws, banning anyone convicted of national security offences from serving in trade unions for life. The amendment bill, passed by a show of hands in the opposition-free legislature on Wednesday, contains a slew of new terms to tighten union laws on national security grounds, including a requirement for foreign funding to be vetted by authorities. The changes to the Trade Unions Ordinance were proposed in February “to better fulfil the duty of safeguarding national security” under the city’s two national security laws.\"\n",
      "  ]\n",
      "}\n",
      "\u001b[36;1m\u001b[1;3m[llm/end]\u001b[0m \u001b[1m[chain:stuff_documents_chain > llm:Llamafile] [4.33s] Exiting LLM run with output:\n",
      "\u001b[0m{\n",
      "  \"generations\": [\n",
      "    [\n",
      "      {\n",
      "        \"text\": \"\\n\\nA new report from the UN’s International Labour Organization (ILO) shows that while 42 per cent of all jobs created worldwide since the 1980s have been in the informal sector, only 37 per cent of those workers were covered by formal labour laws. The ILO’s report, titled ‘Limited Employment Opportunities for Informal Workers’, found that “the situation of informal workers is still poor,” particularly in developing countries and in “the majority” of African countries where the vast majority of people live.\\n\\nThe United States will impose new sanctions on North Korea’s top nuclear scientist on Thursday, the White House said, after Pyongyang conducted a series of missile tests and its nuclear test last month triggered a UN Security Council resolution demanding the dismantling of a nuclear program. The sanctions are aimed at blocking money and technology that could be used to develop nuclear weapons or other weapons of mass destruction, the White House said in a statement on Thursday.\\n\\nThe Chinese government has been accused by US lawmakers of “having been responsible for” the deaths of nearly 10,000 migrant workers who were trapped underground after a fire in a coal mine in eastern China last year, a report by the House Foreign Affairs Committee said. The 9th of November Coal Mine Safety and Health Investigation Commission found that “Chinese officials, including [Xiang] Zhuoqi, the manager of the mine who was in charge of safety and security at the time, were responsible for overseeing safety standards, failing to ensure the miners were properly trained and equipped with fall protection gear, and failing to provide adequate training and instruction on how to use equipment,” according to the report.\\n\\nA report by the UN’s International Labour Organization (ILO) shows that while 42 per cent of all jobs created worldwide since the 1980s have been in the informal sector, only 37 per cent of those workers were covered by formal labour laws. The ILO’s report, titled ‘Limited Employment Opportunities for Informal Workers’, found that “the situation of informal workers is still poor,” particularly in developing countries and in “the majority” of African countries where the vast majority of people live.</s>\",\n",
      "        \"generation_info\": null,\n",
      "        \"type\": \"Generation\"\n",
      "      }\n",
      "    ]\n",
      "  ],\n",
      "  \"llm_output\": null,\n",
      "  \"run\": null,\n",
      "  \"type\": \"LLMResult\"\n",
      "}\n",
      "\u001b[32;1m\u001b[1;3m[chain/start]\u001b[0m \u001b[1m[chain:stuff_documents_chain > parser:StrOutputParser] Entering Parser run with input:\n",
      "\u001b[0m{\n",
      "  \"input\": \"\\n\\nA new report from the UN’s International Labour Organization (ILO) shows that while 42 per cent of all jobs created worldwide since the 1980s have been in the informal sector, only 37 per cent of those workers were covered by formal labour laws. The ILO’s report, titled ‘Limited Employment Opportunities for Informal Workers’, found that “the situation of informal workers is still poor,” particularly in developing countries and in “the majority” of African countries where the vast majority of people live.\\n\\nThe United States will impose new sanctions on North Korea’s top nuclear scientist on Thursday, the White House said, after Pyongyang conducted a series of missile tests and its nuclear test last month triggered a UN Security Council resolution demanding the dismantling of a nuclear program. The sanctions are aimed at blocking money and technology that could be used to develop nuclear weapons or other weapons of mass destruction, the White House said in a statement on Thursday.\\n\\nThe Chinese government has been accused by US lawmakers of “having been responsible for” the deaths of nearly 10,000 migrant workers who were trapped underground after a fire in a coal mine in eastern China last year, a report by the House Foreign Affairs Committee said. The 9th of November Coal Mine Safety and Health Investigation Commission found that “Chinese officials, including [Xiang] Zhuoqi, the manager of the mine who was in charge of safety and security at the time, were responsible for overseeing safety standards, failing to ensure the miners were properly trained and equipped with fall protection gear, and failing to provide adequate training and instruction on how to use equipment,” according to the report.\\n\\nA report by the UN’s International Labour Organization (ILO) shows that while 42 per cent of all jobs created worldwide since the 1980s have been in the informal sector, only 37 per cent of those workers were covered by formal labour laws. The ILO’s report, titled ‘Limited Employment Opportunities for Informal Workers’, found that “the situation of informal workers is still poor,” particularly in developing countries and in “the majority” of African countries where the vast majority of people live.</s>\"\n",
      "}\n",
      "\u001b[36;1m\u001b[1;3m[chain/end]\u001b[0m \u001b[1m[chain:stuff_documents_chain > parser:StrOutputParser] [0ms] Exiting Parser run with output:\n",
      "\u001b[0m{\n",
      "  \"output\": \"\\n\\nA new report from the UN’s International Labour Organization (ILO) shows that while 42 per cent of all jobs created worldwide since the 1980s have been in the informal sector, only 37 per cent of those workers were covered by formal labour laws. The ILO’s report, titled ‘Limited Employment Opportunities for Informal Workers’, found that “the situation of informal workers is still poor,” particularly in developing countries and in “the majority” of African countries where the vast majority of people live.\\n\\nThe United States will impose new sanctions on North Korea’s top nuclear scientist on Thursday, the White House said, after Pyongyang conducted a series of missile tests and its nuclear test last month triggered a UN Security Council resolution demanding the dismantling of a nuclear program. The sanctions are aimed at blocking money and technology that could be used to develop nuclear weapons or other weapons of mass destruction, the White House said in a statement on Thursday.\\n\\nThe Chinese government has been accused by US lawmakers of “having been responsible for” the deaths of nearly 10,000 migrant workers who were trapped underground after a fire in a coal mine in eastern China last year, a report by the House Foreign Affairs Committee said. The 9th of November Coal Mine Safety and Health Investigation Commission found that “Chinese officials, including [Xiang] Zhuoqi, the manager of the mine who was in charge of safety and security at the time, were responsible for overseeing safety standards, failing to ensure the miners were properly trained and equipped with fall protection gear, and failing to provide adequate training and instruction on how to use equipment,” according to the report.\\n\\nA report by the UN’s International Labour Organization (ILO) shows that while 42 per cent of all jobs created worldwide since the 1980s have been in the informal sector, only 37 per cent of those workers were covered by formal labour laws. The ILO’s report, titled ‘Limited Employment Opportunities for Informal Workers’, found that “the situation of informal workers is still poor,” particularly in developing countries and in “the majority” of African countries where the vast majority of people live.</s>\"\n",
      "}\n",
      "\u001b[36;1m\u001b[1;3m[chain/end]\u001b[0m \u001b[1m[chain:stuff_documents_chain] [4.34s] Exiting Chain run with output:\n",
      "\u001b[0m{\n",
      "  \"output\": \"\\n\\nA new report from the UN’s International Labour Organization (ILO) shows that while 42 per cent of all jobs created worldwide since the 1980s have been in the informal sector, only 37 per cent of those workers were covered by formal labour laws. The ILO’s report, titled ‘Limited Employment Opportunities for Informal Workers’, found that “the situation of informal workers is still poor,” particularly in developing countries and in “the majority” of African countries where the vast majority of people live.\\n\\nThe United States will impose new sanctions on North Korea’s top nuclear scientist on Thursday, the White House said, after Pyongyang conducted a series of missile tests and its nuclear test last month triggered a UN Security Council resolution demanding the dismantling of a nuclear program. The sanctions are aimed at blocking money and technology that could be used to develop nuclear weapons or other weapons of mass destruction, the White House said in a statement on Thursday.\\n\\nThe Chinese government has been accused by US lawmakers of “having been responsible for” the deaths of nearly 10,000 migrant workers who were trapped underground after a fire in a coal mine in eastern China last year, a report by the House Foreign Affairs Committee said. The 9th of November Coal Mine Safety and Health Investigation Commission found that “Chinese officials, including [Xiang] Zhuoqi, the manager of the mine who was in charge of safety and security at the time, were responsible for overseeing safety standards, failing to ensure the miners were properly trained and equipped with fall protection gear, and failing to provide adequate training and instruction on how to use equipment,” according to the report.\\n\\nA report by the UN’s International Labour Organization (ILO) shows that while 42 per cent of all jobs created worldwide since the 1980s have been in the informal sector, only 37 per cent of those workers were covered by formal labour laws. The ILO’s report, titled ‘Limited Employment Opportunities for Informal Workers’, found that “the situation of informal workers is still poor,” particularly in developing countries and in “the majority” of African countries where the vast majority of people live.</s>\"\n",
      "}\n"
     ]
    }
   ],
   "source": [
    "from langchain.chains.combine_documents import create_stuff_documents_chain\n",
    "from langchain_core.prompts import ChatPromptTemplate\n",
    "from langchain.callbacks.tracers import ConsoleCallbackHandler\n",
    "\n",
    "prompt = ChatPromptTemplate.from_template(\"Summarize this content: {context}\")\n",
    "chain = create_stuff_documents_chain(llm, prompt, \n",
    "                                     )\n",
    "\n",
    "result = chain.invoke({\"context\": documents},\n",
    "                      config={'callbacks': [ConsoleCallbackHandler()]})"
   ]
  },
  {
   "cell_type": "code",
   "execution_count": 34,
   "id": "84652036",
   "metadata": {},
   "outputs": [
    {
     "name": "stdout",
     "output_type": "stream",
     "text": [
      "('\\n'\n",
      " '\\n'\n",
      " 'A new report from the UN’s International Labour Organization (ILO) shows '\n",
      " 'that while 42 per cent of all jobs created worldwide since the 1980s have '\n",
      " 'been in the informal sector, only 37 per cent of those workers were covered '\n",
      " 'by formal labour laws. The ILO’s report, titled ‘Limited Employment '\n",
      " 'Opportunities for Informal Workers’, found that “the situation of informal '\n",
      " 'workers is still poor,” particularly in developing countries and in “the '\n",
      " 'majority” of African countries where the vast majority of people live.\\n'\n",
      " '\\n'\n",
      " 'The United States will impose new sanctions on North Korea’s top nuclear '\n",
      " 'scientist on Thursday, the White House said, after Pyongyang conducted a '\n",
      " 'series of missile tests and its nuclear test last month triggered a UN '\n",
      " 'Security Council resolution demanding the dismantling of a nuclear program. '\n",
      " 'The sanctions are aimed at blocking money and technology that could be used '\n",
      " 'to develop nuclear weapons or other weapons of mass destruction, the White '\n",
      " 'House said in a statement on Thursday.\\n'\n",
      " '\\n'\n",
      " 'The Chinese government has been accused by US lawmakers of “having been '\n",
      " 'responsible for” the deaths of nearly 10,000 migrant workers who were '\n",
      " 'trapped underground after a fire in a coal mine in eastern China last year, '\n",
      " 'a report by the House Foreign Affairs Committee said. The 9th of November '\n",
      " 'Coal Mine Safety and Health Investigation Commission found that “Chinese '\n",
      " 'officials, including [Xiang] Zhuoqi, the manager of the mine who was in '\n",
      " 'charge of safety and security at the time, were responsible for overseeing '\n",
      " 'safety standards, failing to ensure the miners were properly trained and '\n",
      " 'equipped with fall protection gear, and failing to provide adequate training '\n",
      " 'and instruction on how to use equipment,” according to the report.\\n'\n",
      " '\\n'\n",
      " 'A report by the UN’s International Labour Organization (ILO) shows that '\n",
      " 'while 42 per cent of all jobs created worldwide since the 1980s have been in '\n",
      " 'the informal sector, only 37 per cent of those workers were covered by '\n",
      " 'formal labour laws. The ILO’s report, titled ‘Limited Employment '\n",
      " 'Opportunities for Informal Workers’, found that “the situation of informal '\n",
      " 'workers is still poor,” particularly in developing countries and in “the '\n",
      " 'majority” of African countries where the vast majority of people live.</s>')\n"
     ]
    }
   ],
   "source": [
    "pprint.pprint(result)"
   ]
  }
 ],
 "metadata": {
  "kernelspec": {
   "display_name": "ml_pf",
   "language": "python",
   "name": "python3"
  },
  "language_info": {
   "codemirror_mode": {
    "name": "ipython",
    "version": 3
   },
   "file_extension": ".py",
   "mimetype": "text/x-python",
   "name": "python",
   "nbconvert_exporter": "python",
   "pygments_lexer": "ipython3",
   "version": "3.11.13"
  }
 },
 "nbformat": 4,
 "nbformat_minor": 5
}
